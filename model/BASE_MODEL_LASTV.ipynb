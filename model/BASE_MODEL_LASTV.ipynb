{
 "cells": [
  {
   "cell_type": "code",
   "execution_count": 6,
   "metadata": {
    "pycharm": {
     "name": "#%%\n"
    }
   },
   "source": [
    "pip install imgaug"
   ],
   "outputs": []
  },
  {
   "cell_type": "code",
   "execution_count": 7,
   "metadata": {
    "pycharm": {
     "name": "#%%\n"
    }
   },
   "source": [
    "import numpy as np\n",
    "import matplotlib.pyplot as plt\n",
    "import keras\n",
    "from keras import layers\n",
    "from keras.models import Model\n",
    "from sklearn.utils import shuffle\n",
    "from sklearn.model_selection import train_test_split\n",
    "from imgaug import augmenters as iaa\n",
    "import random\n",
    "from scipy import misc\n"
   ],
   "outputs": []
  },
  {
   "cell_type": "markdown",
   "metadata": {
    "pycharm": {
     "name": "#%% md\n"
    }
   },
   "source": [
    "# Load Dataset"
   ]
  },
  {
   "cell_type": "code",
   "execution_count": 8,
   "metadata": {
    "pycharm": {
     "name": "#%%\n"
    }
   },
   "source": [
    "x_real = np.load('dataset/x_real.npz')['data']\n",
    "y_real = np.load('dataset/y_real.npy')\n",
    "x_easy = np.load('dataset/x_easy.npz')['data']\n",
    "y_easy = np.load('dataset/y_easy.npy')\n",
    "x_medium = np.load('dataset/x_medium.npz')['data']\n",
    "y_medium = np.load('dataset/y_medium.npy')\n",
    "x_hard = np.load('dataset/x_hard.npz')['data']\n",
    "y_hard = np.load('dataset/y_hard.npy')\n",
    "\n",
    "print(x_real.shape)\n",
    "\n",
    "# x_real_pad = np.pad(x_real, ((0, 0), (35, 35), (5,5), (0, 0)), mode='constant',constant_values=255)\n",
    "# x_easy= np.pad(x_easy, ((0, 0), (27,27), (0, 0), (0, 0)), mode='constant',constant_values=255)\n",
    "# x_medium = np.pad(x_medium, ((0, 0),(27,27), (0, 0), (0, 0)), mode='constant',constant_values=255)\n",
    "# x_hard = np.pad(x_hard, ((0, 0), (27,27), (0, 0), (0, 0)), mode='constant',constant_values=255)\n",
    "\n",
    "\n",
    "# print(\"x_real shape:\", x_real.shape, \" size:\", x_real.size)\n",
    "# print(\"x_easy shape:\", x_easy.shape, \" size:\", x_easy.size)\n",
    "# print(\"x_medium shape:\", x_medium.shape, \" size:\", x_medium.size)\n",
    "# print(\"x_hard shape:\", x_hard.shape, \" size:\", x_hard.size)\n",
    "# print(x_real.shape, y_real.shape)\n",
    "\n",
    "plt.figure(figsize=(15, 10))\n",
    "plt.subplot(1, 4, 1)\n",
    "plt.title(y_real[0])\n",
    "plt.imshow(x_real[0].squeeze(), cmap='gray')\n",
    "plt.subplot(1, 4, 2)\n",
    "plt.title(y_easy[0])\n",
    "plt.imshow(x_easy[0].squeeze(), cmap='gray')\n",
    "plt.subplot(1, 4, 3)\n",
    "plt.title(y_medium[0])\n",
    "plt.imshow(x_medium[0].squeeze(), cmap='gray')\n",
    "plt.subplot(1, 4, 4)\n",
    "plt.title(y_hard[0])\n",
    "plt.imshow(x_hard[0].squeeze(), cmap='gray')\n",
    "print(x_real.shape)\n"
   ],
   "outputs": []
  },
  {
   "cell_type": "markdown",
   "metadata": {
    "pycharm": {
     "name": "#%% md\n"
    }
   },
   "source": [
    "# Train Test Split"
   ]
  },
  {
   "cell_type": "code",
   "execution_count": 4,
   "metadata": {
    "pycharm": {
     "name": "#%%\n"
    }
   },
   "source": [
    "from skimage.transform import resize\n",
    "print('Old Shapes')\n",
    "print(x_real.shape)\n",
    "print(x_easy.shape)\n",
    "print(x_medium.shape)\n",
    "print(x_hard.shape)\n",
    "\n",
    "x_real = np.array([resize(img, (144, 90), order=3, preserve_range=True) for img in x_real])\n",
    "# x_easy = np.array([resize(img, (160, 100), order=3, preserve_range=True) for img in x_easy])\n",
    "# x_medium = np.array([resize(img, (160, 100), order=3, preserve_range=True) for img in x_medium])\n",
    "# x_hard = np.array([resize(img, (160, 100), order=3, preserve_range=True) for img in x_hard])\n",
    "\n",
    "print('New Shapes')\n",
    "print(x_real.shape)\n",
    "print(x_easy.shape)\n",
    "print(x_medium.shape)\n",
    "print(x_hard.shape)"
   ],
   "outputs": []
  },
  {
   "cell_type": "code",
   "execution_count": 5,
   "metadata": {
    "pycharm": {
     "name": "#%%\n"
    }
   },
   "source": [
    "x_easy = np.array([resize(img, (144, 90), order=3, preserve_range=True) for img in x_easy])\n",
    "print(x_easy.shape)\n",
    "x_medium = np.array([resize(img, (144, 90), order=3, preserve_range=True) for img in x_medium])\n",
    "print(x_medium.shape)\n",
    "x_hard = np.array([resize(img, (144, 90), order=3, preserve_range=True) for img in x_hard])\n",
    "print(x_hard.shape)\n"
   ],
   "outputs": []
  },
  {
   "cell_type": "code",
   "execution_count": 6,
   "metadata": {
    "pycharm": {
     "name": "#%%\n"
    }
   },
   "source": [
    "plt.figure(figsize=(8, 4))\n",
    "plt.subplot(1, 4, 1)\n",
    "plt.title(x_real.shape)\n",
    "plt.imshow(x_real[0].squeeze(), cmap='gray')\n",
    "\n",
    "plt.figure(figsize=(8, 4))\n",
    "plt.subplot(1, 4, 1)\n",
    "plt.title(x_easy.shape)\n",
    "plt.imshow(x_easy[0].squeeze(), cmap='gray')\n",
    "\n",
    "\n",
    "plt.figure(figsize=(8, 4))\n",
    "plt.subplot(1, 4, 1)\n",
    "plt.title(x_medium.shape)\n",
    "plt.imshow(x_medium[0].squeeze(), cmap='gray')\n",
    "\n",
    "plt.figure(figsize=(8, 4))\n",
    "plt.subplot(1, 4, 1)\n",
    "plt.title(x_hard.shape)\n",
    "plt.imshow(x_hard[0].squeeze(), cmap='gray')"
   ],
   "outputs": []
  },
  {
   "cell_type": "code",
   "execution_count": 7,
   "metadata": {
    "pycharm": {
     "name": "#%%\n"
    }
   },
   "source": [
    "x_data = np.concatenate([x_easy, x_medium, x_hard], axis=0)\n",
    "label_data = np.concatenate([y_easy, y_medium, y_hard], axis=0)\n",
    "\n",
    "x_train, x_val, label_train, label_val = train_test_split(x_data, label_data, test_size=0.1)\n",
    "print(x_data.shape, label_data.shape)\n",
    "print(x_train.shape, label_train.shape)\n",
    "print(x_val.shape, label_val.shape)"
   ],
   "outputs": []
  },
  {
   "cell_type": "markdown",
   "metadata": {
    "pycharm": {
     "name": "#%% md\n"
    }
   },
   "source": [
    "# Preview Augmentation"
   ]
  },
  {
   "cell_type": "code",
   "execution_count": 8,
   "metadata": {
    "pycharm": {
     "name": "#%%\n"
    }
   },
   "source": [
    "augs = [x_data[0]] * 9\n",
    "\n",
    "seq = iaa.Sequential([\n",
    "    # blur images with a sigma of 0 to 0.5\n",
    "    iaa.GaussianBlur(sigma=(0, 0.5)),\n",
    "    iaa.Affine(\n",
    "        # scale images to 90-110% of their size, individually per axis\n",
    "        scale={\"x\": (0.9, 1.1), \"y\": (0.9, 1.1)},\n",
    "        # translate by -10 to +10 percent (per axis)\n",
    "        translate_percent={\"x\": (-0.1, 0.1), \"y\": (-0.1, 0.1)},\n",
    "        # rotate by -30 to +30 degrees\n",
    "        rotate=(-30, 30),\n",
    "        # use nearest neighbour or bilinear interpolation (fast)\n",
    "        order=[0, 1],\n",
    "        # if mode is constant, use a cval between 0 and 255\n",
    "        cval=255\n",
    "    )\n",
    "], random_order=True)\n",
    "\n",
    "augs = seq.augment_images(augs)\n",
    "\n",
    "plt.figure(figsize=(16, 6))\n",
    "plt.subplot(2, 5, 1)\n",
    "plt.title('original')\n",
    "plt.imshow(x_data[40000].squeeze(), cmap='gray')\n",
    "for i, aug in enumerate(augs):\n",
    "    plt.subplot(2, 5, i+2)\n",
    "    plt.title('aug %02d' % int(i+1))\n",
    "    plt.imshow(aug.squeeze(), cmap='gray')"
   ],
   "outputs": []
  },
  {
   "cell_type": "markdown",
   "metadata": {
    "pycharm": {
     "name": "#%% md\n"
    }
   },
   "source": [
    "# Make Label Dictionary Lookup Table"
   ]
  },
  {
   "cell_type": "code",
   "execution_count": 9,
   "metadata": {
    "pycharm": {
     "name": "#%%\n"
    }
   },
   "source": [
    "label_real_dict = {}\n",
    "\n",
    "for i, y in enumerate(y_real):\n",
    "    key = y.astype(str)\n",
    "    key = ''.join(key).zfill(6)\n",
    "\n",
    "    label_real_dict[key] = i"
   ],
   "outputs": []
  },
  {
   "cell_type": "markdown",
   "metadata": {
    "pycharm": {
     "name": "#%% md\n"
    }
   },
   "source": [
    "# Data Generator"
   ]
  },
  {
   "cell_type": "code",
   "execution_count": 10,
   "metadata": {
    "pycharm": {
     "name": "#%%\n"
    }
   },
   "source": [
    "class DataGenerator(keras.utils.Sequence):\n",
    "    def __init__(self, x, label, x_real, label_real_dict, batch_size=32, shuffle=True):\n",
    "        'Initialization'\n",
    "        self.x = x\n",
    "        self.label = label\n",
    "        self.x_real = x_real\n",
    "        self.label_real_dict = label_real_dict\n",
    "        \n",
    "        self.batch_size = batch_size\n",
    "        self.shuffle = shuffle\n",
    "        self.on_epoch_end()\n",
    "\n",
    "    def __len__(self):\n",
    "        'Denotes the number of batches per epoch'\n",
    "        return int(np.floor(len(self.x) / self.batch_size))\n",
    "\n",
    "    def __getitem__(self, index):\n",
    "        'Generate one batch of data'\n",
    "        # Generate indexes of the batch\n",
    "        x1_batch = self.x[index*self.batch_size:(index+1)*self.batch_size]\n",
    "        label_batch = self.label[index*self.batch_size:(index+1)*self.batch_size]\n",
    "        \n",
    "        x2_batch = np.empty((self.batch_size, 144,90, 1), dtype=np.float32)\n",
    "        y_batch = np.zeros((self.batch_size, 1), dtype=np.float32)\n",
    "        \n",
    "        # augmentation\n",
    "        if self.shuffle:\n",
    "            seq = iaa.Sequential([\n",
    "                iaa.GaussianBlur(sigma=(0, 0.5)),\n",
    "                iaa.Affine(\n",
    "                    scale={\"x\": (0.9, 1.1), \"y\": (0.9, 1.1)},\n",
    "                    translate_percent={\"x\": (-0.1, 0.1), \"y\": (-0.1, 0.1)},\n",
    "                    rotate=(-30, 30),\n",
    "                    order=[0, 1],\n",
    "                    cval=255\n",
    "                )\n",
    "            ], random_order=True)\n",
    "\n",
    "            x1_batch = seq.augment_images(x1_batch)\n",
    "        \n",
    "        # pick matched images(label 1.0) and unmatched images(label 0.0) and put together in batch\n",
    "        # matched images must be all same, [subject_id(3), gender(1), left_right(1), finger(1)], e.g) 034010\n",
    "        for i, l in enumerate(label_batch):\n",
    "            match_key = l.astype(str)\n",
    "            match_key = ''.join(match_key).zfill(6)\n",
    "\n",
    "            if random.random() > 0.5:\n",
    "                # put matched image\n",
    "                x2_batch[i] = self.x_real[self.label_real_dict[match_key]]\n",
    "                y_batch[i] = 1.\n",
    "            else:\n",
    "                # put unmatched image\n",
    "                while True:\n",
    "                    unmatch_key, unmatch_idx = random.choice(list(self.label_real_dict.items()))\n",
    "\n",
    "                    if unmatch_key != match_key:\n",
    "                        break\n",
    "\n",
    "                x2_batch[i] = self.x_real[unmatch_idx]\n",
    "                y_batch[i] = 0.\n",
    "\n",
    "        return [x1_batch.astype(np.float32) / 255., x2_batch.astype(np.float32) / 255.], y_batch\n",
    "\n",
    "    def on_epoch_end(self):\n",
    "        if self.shuffle == True:\n",
    "            self.x, self.label = shuffle(self.x, self.label)"
   ],
   "outputs": []
  },
  {
   "cell_type": "code",
   "execution_count": 11,
   "metadata": {
    "pycharm": {
     "name": "#%%\n"
    }
   },
   "source": [
    "train_gen = DataGenerator(x_train, label_train, x_real, label_real_dict, shuffle=True)\n",
    "val_gen = DataGenerator(x_val, label_val, x_real, label_real_dict, shuffle=False)"
   ],
   "outputs": []
  },
  {
   "cell_type": "markdown",
   "metadata": {
    "pycharm": {
     "name": "#%% md\n"
    }
   },
   "source": [
    "# Create Model"
   ]
  },
  {
   "cell_type": "code",
   "execution_count": 13,
   "metadata": {
    "pycharm": {
     "name": "#%%\n"
    }
   },
   "source": [
    "x1 = layers.Input(shape=(144,90, 1))\n",
    "x2 = layers.Input(shape=(144,90, 1))\n",
    "\n",
    "# share weights both inputs\n",
    "inputs = layers.Input(shape=(144,90,1))\n",
    "\n",
    "feature = layers.Conv2D(32, kernel_size=3, padding='same', activation='relu')(inputs)\n",
    "feature = layers.MaxPooling2D(pool_size=2)(feature)\n",
    "\n",
    "feature = layers.Conv2D(32, kernel_size=3, padding='same', activation='relu')(feature)\n",
    "feature = layers.MaxPooling2D(pool_size=2)(feature)\n",
    "\n",
    "feature_model = Model(inputs=inputs, outputs=feature)\n",
    "\n",
    "# 2 feature models that sharing weights\n",
    "x1_net = feature_model(x1)\n",
    "x2_net = feature_model(x2)\n",
    "\n",
    "# subtract features\n",
    "net = layers.Subtract()([x1_net, x2_net])\n",
    "\n",
    "net = layers.Conv2D(32, kernel_size=3, padding='same', activation='relu')(net)\n",
    "net = layers.MaxPooling2D(pool_size=2)(net)\n",
    "\n",
    "net = layers.Flatten()(net)\n",
    "\n",
    "net = layers.Dense(64, activation='relu')(net)\n",
    "\n",
    "net = layers.Dense(1, activation='sigmoid')(net)\n",
    "\n",
    "model = Model(inputs=[x1, x2], outputs=net)\n",
    "\n",
    "model.compile(loss='binary_crossentropy', optimizer='adam', metrics=['acc'])\n",
    "\n",
    "model.summary()"
   ],
   "outputs": []
  },
  {
   "cell_type": "markdown",
   "metadata": {
    "pycharm": {
     "name": "#%% md\n"
    }
   },
   "source": [
    "# Train"
   ]
  },
  {
   "cell_type": "code",
   "execution_count": null,
   "metadata": {
    "pycharm": {
     "name": "#%%\n"
    }
   },
   "source": [
    "history = model.fit_generator(train_gen, epochs=15, validation_data=val_gen)"
   ],
   "outputs": []
  },
  {
   "cell_type": "code",
   "execution_count": 9,
   "metadata": {
    "pycharm": {
     "name": "#%%\n"
    }
   },
   "source": [
    "from tensorflow.keras.models import model_from_json\n",
    "def save_model(model, filepath):\n",
    "    # Save the model weights and architecture\n",
    "    model.save_weights(filepath + '_weights.h5')\n",
    "    with open(filepath + '_architecture.json', 'w') as f:\n",
    "        f.write(model.to_json())\n",
    "\n",
    "        \n",
    "def load_model(filepath):\n",
    "    # Load the model architecture\n",
    "    with open(filepath + '_architecture.json', 'r') as f:\n",
    "        loaded_model = model_from_json(f.read())\n",
    "    # Load the model weights\n",
    "    loaded_model.load_weights(filepath + '_weights.h5')\n",
    "    return loaded_model"
   ],
   "outputs": []
  },
  {
   "cell_type": "code",
   "execution_count": null,
   "metadata": {
    "pycharm": {
     "name": "#%%\n"
    }
   },
   "source": [
    "save_model(model, 'good_model')\n",
    " "
   ],
   "outputs": []
  },
  {
   "cell_type": "code",
   "execution_count": 13,
   "metadata": {
    "pycharm": {
     "name": "#%%\n"
    }
   },
   "source": [
    "from tensorflow.keras.models import model_from_json\n",
    "mp = load_model('good_model')"
   ],
   "outputs": []
  },
  {
   "cell_type": "code",
   "execution_count": 12,
   "metadata": {
    "pycharm": {
     "name": "#%%\n"
    }
   },
   "source": [
    "test_datax = np.concatenate([x_easy,x_medium], axis=0)\n",
    "test_datay = np.concatenate([y_easy,y_medium], axis=0)"
   ],
   "outputs": []
  },
  {
   "cell_type": "markdown",
   "metadata": {
    "pycharm": {
     "name": "#%% md\n"
    }
   },
   "source": [
    "# Evaluation"
   ]
  },
  {
   "cell_type": "code",
   "execution_count": 13,
   "metadata": {
    "collapsed": false,
    "pycharm": {
     "name": "#%%\n"
    }
   },
   "source": [
    "import random as random\n",
    "from collections import defaultdict\n",
    "# new user fingerprint input\n",
    "random_idx = random.randint(0, len(x_val))\n",
    "# random_idx=2995\n",
    "random_img = x_val[random_idx]\n",
    "random_label = label_val[random_idx]\n",
    "\n",
    "seq = iaa.Sequential([\n",
    "    iaa.GaussianBlur(sigma=(0, 0.5)),\n",
    "    iaa.Affine(\n",
    "        scale={\"x\": (0.9, 1.1), \"y\": (0.9, 1.1)},\n",
    "        translate_percent={\"x\": (-0.1, 0.1), \"y\": (-0.1, 0.1)},\n",
    "        rotate=(-30, 30),\n",
    "        order=[0, 1],\n",
    "        cval=255\n",
    "    )\n",
    "], random_order=True)\n",
    "\n",
    "random_img = seq.augment_image(random_img).reshape((1, 144, 90, 1)).astype(np.float32) / 255.\n",
    "# plt.figure(figsize=(8, 4))\n",
    "# plt.subplot(1, 3, 1)\n",
    "# plt.title('Input: %s' %random_label)\n",
    "# plt.imshow(random_img.squeeze(), cmap='gray')\n",
    "\n",
    "ans=100.0\n",
    "ansx=None\n",
    "ansy=None\n",
    "l=0\n",
    "r=len(x_real)\n",
    "print(random_idx)\n",
    "# while l<r:\n",
    "#     rx = x_real[l].reshape((1, 144, 90, 1)).astype(np.float32) / 255.\n",
    "#     ry = y_real[l]\n",
    "#     pred_rx=model.predict([random_img,rx])\n",
    "#     print(l)\n",
    "#     if pred_rx>ans:\n",
    "#         ans=pred_rx\n",
    "#         ansx=rx\n",
    "#         ansy=ry\n",
    "#     l+=1\n",
    "\n",
    "\n",
    "# plt.figure(figsize=(8, 4))\n",
    "# plt.subplot(1, 3, 1)\n",
    "# plt.title('Input: %s' %random_label)\n",
    "# plt.imshow(random_img.squeeze(), cmap='gray')\n",
    "# plt.subplot(1, 3, 2)\n",
    "# plt.title('O: %.02f, %s' % (ans, ansy))\n",
    "# plt.imshow(ansx.squeeze(), cmap='gray')\n",
    "\n",
    "# matched image\n",
    "match_key = random_label.astype(str)\n",
    "match_key = ''.join(match_key).zfill(6)\n",
    "print (label_real_dict[match_key],random_idx)\n",
    "rx = x_real[label_real_dict[match_key]].reshape((1, 144, 90, 1)).astype(np.float32) / 255.\n",
    "ry = y_real[label_real_dict[match_key]]\n",
    "\n",
    "pred_rx = mp.predict([random_img, rx])\n",
    "\n",
    "# # unmatched image\n",
    "# unmatch_key, unmatch_idx = random.choice(list(label_real_dict.items()))\n",
    "\n",
    "# ux = x_real[unmatch_idx].reshape((1, 90, 90, 1)).astype(np.float32) / 255.\n",
    "# uy = y_real[unmatch_idx]\n",
    "\n",
    "# # pred_ux = mp.predict([random_img, ux])\n",
    "\n",
    "plt.figure(figsize=(8, 4))\n",
    "plt.subplot(1, 3, 1)\n",
    "plt.title('Input: %s' %random_label)\n",
    "plt.imshow(random_img.squeeze(), cmap='gray')\n",
    "plt.subplot(1, 3, 2)\n",
    "plt.title('O: %.02f, %s' % (pred_rx, ry))\n",
    "plt.imshow(rx.squeeze(), cmap='gray')\n",
    "\n",
    "# plt.subplot(1, 3, 3)\n",
    "# plt.title('X: %.02f, %s' % (pred_ux, uy))\n",
    "# plt.imshow(ux.squeeze(), cmap='gray')\n",
    "\n",
    "\n",
    "# 605_M_Left_index_finger"
   ],
   "outputs": []
  },
  {
   "cell_type": "code",
   "execution_count": 14,
   "metadata": {
    "collapsed": false,
    "pycharm": {
     "name": "#%%\n"
    }
   },
   "source": [
    "X = np.load('dataset_1/foot_1.npz')\n",
    "Y =  np.load('dataset_1/trgt_foot.npy')\n",
    "random_idx1 = random.randint(0, len(X)-1)\n",
    "# random_idx=2995\n",
    "random_img1 = X[random_idx1]\n",
    "random_label1=Y[random_idx1]\n",
    "seq = iaa.Sequential([\n",
    "    iaa.GaussianBlur(sigma=(0, 0.5)),\n",
    "    iaa.Affine(\n",
    "        scale={\"x\": (0.9, 1.1), \"y\": (0.9, 1.1)},\n",
    "        translate_percent={\"x\": (-0.1, 0.1), \"y\": (-0.1, 0.1)},\n",
    "        rotate=(-30, 30),\n",
    "        order=[0, 1],\n",
    "        cval=255\n",
    "    )\n",
    "], random_order=True)\n",
    "\n",
    "random_img1 = random_img1.reshape((1, 144, 90, 1)).astype(np.float32) #/ 255.\n",
    "ans1=0.0\n",
    "ansxx=None\n",
    "ansyy=None\n",
    "l=0\n",
    "r=len(X)\n",
    "while l<r:\n",
    "    rxx = X[l].reshape((1, 144, 90, 1)).astype(np.float32) #/ 255.\n",
    "    ryy=Y[l]\n",
    "    pred_rxx=mp.predict([random_img1,rxx])\n",
    "    # print(pred_rxx)\n",
    "    if pred_rxx>ans1:\n",
    "        print (pred_rxx)\n",
    "        ans1=pred_rxx\n",
    "        ansxx=rxx\n",
    "        ansyy=ryy\n",
    "    \n",
    "    l+=1\n",
    "plt.figure(figsize=(8, 4))\n",
    "plt.subplot(1, 3, 1)\n",
    "plt.title('input:' )\n",
    "plt.imshow(random_img1.squeeze(), cmap='gray')\n",
    "plt.subplot(1, 3, 2)\n",
    "plt.title('O: %.10f, %s' % (ans1, ansyy))\n",
    "# plt.title('%.07f'% ans1)\n",
    "plt.imshow(ansxx.squeeze(), cmap='gray')\n"
   ],
   "outputs": []
  },
  {
   "cell_type": "code",
   "execution_count": null,
   "metadata": {
    "collapsed": false,
    "pycharm": {
     "name": "#%%\n"
    }
   },
   "source": [
    "X = np.load('foot.npz')\n",
    "Y=np.load('target2.npy')\n",
    "random_idx1 = random.randint(0, len(X))\n",
    "# random_idx=2995\n",
    "random_img1 = X[random_idx1]\n",
    "# random_label1=Y[random_idx1]\n",
    "seq = iaa.Sequential([\n",
    "    iaa.GaussianBlur(sigma=(0, 0.5)),\n",
    "    iaa.Affine(\n",
    "        scale={\"x\": (0.9, 1.1), \"y\": (0.9, 1.1)},\n",
    "        translate_percent={\"x\": (-0.1, 0.1), \"y\": (-0.1, 0.1)},\n",
    "        rotate=(-30, 30),\n",
    "        order=[0, 1],\n",
    "        cval=255\n",
    "    )\n",
    "], random_order=True)\n",
    "\n",
    "random_img1 = random_img1.reshape((1, 144, 90, 1)).astype(np.float32) / 255.\n",
    "ans1=100.0\n",
    "ansxx=None\n",
    "ansyy=None\n",
    "l=0\n",
    "r=len(X)\n",
    "while l<r:\n",
    "    rxx = X[l].reshape((1, 144, 90, 1)).astype(np.float32) / 255.\n",
    "    # ryy=Y[l]\n",
    "    pred_rxx=mp.predict([random_img1,rxx])\n",
    "    print(pred_rxx)\n",
    "    if pred_rxx<ans1:\n",
    "    \n",
    "        ans1=pred_rxx\n",
    "        print(ans1)\n",
    "        ansxx=X[l]\n",
    "        # ansyy=Y[l]\n",
    "    l+=1\n",
    "plt.figure(figsize=(8, 4))\n",
    "plt.subplot(1, 3, 1)\n",
    "plt.title('input: %s' %  random_label1)\n",
    "# plt.title('input: ')\n",
    "plt.imshow(random_img1.squeeze(), cmap='gray')\n",
    "plt.subplot(1, 3, 2)\n",
    "plt.title('O: %.07f, %s' % (ans1, ansyy))\n",
    "plt.imshow(ansxx.squeeze(), cmap='gray')\n"
   ],
   "outputs": []
  },
  {
   "cell_type": "code",
   "execution_count": 2,
   "metadata": {
    "collapsed": false,
    "pycharm": {
     "name": "#%%\n"
    }
   },
   "source": [
    "from flask import Flask, request, jsonify, send_file\n",
    "from PIL import Image\n",
    "import io\n",
    "import os\n",
    "\n",
    "import numpy as np\n",
    "import matplotlib.pyplot as plt\n",
    "import keras\n",
    "from keras import layers\n",
    "from keras.models import Model\n",
    "from sklearn.utils import shuffle\n",
    "from sklearn.model_selection import train_test_split\n",
    "from imgaug import augmenters as iaa\n",
    "import random\n",
    "from scipy import misc\n",
    "\n",
    "app = Flask(__name__)\n",
    "\n",
    "\n",
    "# def load_model(filepath):\n",
    "#     # Load the model architecture\n",
    "#     with open(filepath + '_architecture.json', 'r') as f:\n",
    "#         loaded_model = model_from_json(f.read())\n",
    "#     # Load the model weights\n",
    "#     loaded_model.load_weights(filepath + '_weights.h5')\n",
    "#     return loaded_model\n",
    "\n",
    "\n",
    "# model = load_model('good_model')\n",
    "\n",
    "\n",
    "def preprocess():\n",
    "    photos_directory = \"C:\\\\Users\\\\asdan\\Desktop\\\\20200203_20200055_20200436\\\\data\\\\\"\n",
    "\n",
    "    # Define the pattern to match image files (you can adjust this pattern if needed)\n",
    "    image_files_pattern = \"*.bmp\"\n",
    "    finger_mapping = {'thumb': 0, 'index': 1, 'middle': 2, 'ring': 3, 'little': 4}\n",
    "    # Initialize lists to store image data and target labels\n",
    "    image_data = []\n",
    "    target_labels = []\n",
    "    for filename in os.listdir(photos_directory):\n",
    "        if filename.endswith(\".BMP\"):\n",
    "            subject_id, gender, lr, finger, _ = filename.split('_')\n",
    "            # gender, lr, finger, _ = etc.split('_')\n",
    "            gender = 0 if gender == 'M' else 1\n",
    "            lr = 0 if lr == 'Left' else 1\n",
    "\n",
    "            if finger == 'thumb':\n",
    "                finger = 0\n",
    "            elif finger == 'index':\n",
    "                finger = 1\n",
    "            elif finger == 'middle':\n",
    "                finger = 2\n",
    "            elif finger == 'ring':\n",
    "                finger = 3\n",
    "            elif finger == 'little':\n",
    "                finger = 4\n",
    "            target_labels.append([subject_id, gender, lr, finger])\n",
    "            path = photos_directory + filename\n",
    "            img = Image.open(path)\n",
    "\n",
    "            if img.mode != 'RGB':\n",
    "                # print(img.mode)\n",
    "                img = img.convert('RGB')\n",
    "\n",
    "            resized_photo = img.resize((90, 144))\n",
    "            # print(resized_photo.size)\n",
    "            img_np_array = np.array(resized_photo)\n",
    "            gray_image = rgb2gray(img_np_array)\n",
    "            gray_image = np.expand_dims(gray_image, axis=-1)\n",
    "            real_photo = gray_image.astype(np.float32)\n",
    "\n",
    "            image_data.append(real_photo)\n",
    "\n",
    "    # Convert lists to NumPy arrays\n",
    "    image_data = np.array(image_data)\n",
    "    target_labels = np.array(target_labels)\n",
    "    return image_data,target_labels\n",
    "\n",
    "def exe():\n",
    "    photo=\"C:\\\\Users\\\\asdan\\Desktop\\\\20200203_20200055_20200436\\\\data\\\\1_M_Left_index_finger.BMP\"\n",
    "    img = Image.open(photo)\n",
    "    if img.mode != 'RGB':\n",
    "        # print(img.mode)\n",
    "        img = img.convert('RGB')\n",
    "\n",
    "    resized_photo = img.resize((90, 144))\n",
    "    img_np_array = np.array(resized_photo)\n",
    "    gray_image = rgb2gray(img_np_array)\n",
    "    gray_image = np.expand_dims(gray_image, axis=-1)\n",
    "    real_photo = gray_image.astype(np.float32)\n",
    "    image_data, target = preprocess()\n",
    "    ans=0\n",
    "    ansy=-1\n",
    "    for i in range(len(image_data)):\n",
    "        pre=model.predict(real_photo,image_data[i].reshape((1, 144, 90, 1)).astype(np.float32))\n",
    "        if ans<pre:\n",
    "            ansy=target[i][0]\n",
    "            ans=pre\n",
    "    print(ansy)\n",
    "\n",
    "# Endpoint to receive and process uploaded images\n",
    "# @app.route('/upload', methods=['POST'])\n",
    "# def upload():\n",
    "#     # Check if the POST request has the file part\n",
    "#     if 'image' not in request.files:\n",
    "#         return jsonify({'error': 'No image provided'}), 400\n",
    "#\n",
    "#     # Get the image file from the POST request\n",
    "#     image_file = request.files['image']\n",
    "#\n",
    "#     # Read the image using Pillow (PIL)\n",
    "#     try:\n",
    "#         img = Image.open(image_file)\n",
    "#     except Exception as e:\n",
    "#         return jsonify({'error': 'Invalid image file'}), 400\n",
    "#\n",
    "#     # Process the image (e.g., resize, apply filters, etc.)\n",
    "#     # Example: Resize the image to 128x128 pixels\n",
    "#     img.thumbnail((128, 128))\n",
    "#\n",
    "#     # Prepare the image data to send back as a response\n",
    "#     img_byte_arr = io.BytesIO()\n",
    "#     img.save(img_byte_arr, format='BMP')\n",
    "#     img_byte_arr.seek(0)\n",
    "#     image_data,target=preprocess()\n",
    "#     model.predict()\n",
    "#     # Return the processed image as a response\n",
    "#     return send_file(img_byte_arr, mimetype='image/png')\n",
    "\n",
    "# Run the app\n",
    "# if __name__ == '__main__':\n",
    "#      app.run(debug=True)\n",
    "\n",
    "\n",
    "exe()"
   ],
   "outputs": []
  }
 ],
 "metadata": {
  "kernelspec": {
   "display_name": "Python 3 (ipykernel)",
   "language": "python",
   "name": "python3"
  },
  "language_info": {
   "codemirror_mode": {
    "name": "ipython",
    "version": 3
   },
   "file_extension": ".py",
   "mimetype": "text/x-python",
   "name": "python",
   "nbconvert_exporter": "python",
   "pygments_lexer": "ipython3",
   "version": "3.10.4"
  }
 },
 "nbformat": 4,
 "nbformat_minor": 4
}
